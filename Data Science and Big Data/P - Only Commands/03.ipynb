{
  "metadata": {
    "kernelspec": {
      "name": "python",
      "display_name": "Python (Pyodide)",
      "language": "python"
    },
    "language_info": {
      "codemirror_mode": {
        "name": "python",
        "version": 3
      },
      "file_extension": ".py",
      "mimetype": "text/x-python",
      "name": "python",
      "nbconvert_exporter": "python",
      "pygments_lexer": "ipython3",
      "version": "3.8"
    }
  },
  "nbformat_minor": 5,
  "nbformat": 4,
  "cells": [
    {
      "id": "43570ff5",
      "cell_type": "code",
      "source": "# Import the required libraries\nimport pandas as pd\n",
      "metadata": {
        "trusted": true
      },
      "outputs": [],
      "execution_count": null
    },
    {
      "id": "ee6ee424",
      "cell_type": "code",
      "source": "data = pd.read_csv(\"loan_data.csv\")\ndata\n",
      "metadata": {
        "trusted": true
      },
      "outputs": [],
      "execution_count": null
    },
    {
      "id": "da6018a5",
      "cell_type": "code",
      "source": "data.head()",
      "metadata": {
        "trusted": true
      },
      "outputs": [],
      "execution_count": null
    },
    {
      "id": "cf3aefb7",
      "cell_type": "code",
      "source": "data.tail()",
      "metadata": {
        "trusted": true
      },
      "outputs": [],
      "execution_count": null
    },
    {
      "id": "91ab3470",
      "cell_type": "code",
      "source": "data.info()",
      "metadata": {
        "trusted": true
      },
      "outputs": [],
      "execution_count": null
    },
    {
      "id": "4507d028",
      "cell_type": "code",
      "source": "data.describe()",
      "metadata": {
        "trusted": true
      },
      "outputs": [],
      "execution_count": null
    },
    {
      "id": "b6aa5a31",
      "cell_type": "code",
      "source": "data.isnull().sum()",
      "metadata": {
        "trusted": true
      },
      "outputs": [],
      "execution_count": null
    },
    {
      "id": "22dcb61a",
      "cell_type": "code",
      "source": "data.mean()",
      "metadata": {
        "trusted": true
      },
      "outputs": [],
      "execution_count": null
    },
    {
      "id": "9f188c91",
      "cell_type": "code",
      "source": "data['LoanAmount'].mean()",
      "metadata": {
        "trusted": true
      },
      "outputs": [],
      "execution_count": null
    },
    {
      "id": "cd5059a0",
      "cell_type": "code",
      "source": "data['Loan_Amount_Term'].mean()",
      "metadata": {
        "trusted": true
      },
      "outputs": [],
      "execution_count": null
    },
    {
      "id": "eef1e0d2",
      "cell_type": "code",
      "source": "data.median()",
      "metadata": {
        "trusted": true
      },
      "outputs": [],
      "execution_count": null
    },
    {
      "id": "31e47ce7",
      "cell_type": "code",
      "source": "data['Age'].median()",
      "metadata": {
        "trusted": true
      },
      "outputs": [],
      "execution_count": null
    },
    {
      "id": "196da481",
      "cell_type": "code",
      "source": "data.min()",
      "metadata": {
        "trusted": true
      },
      "outputs": [],
      "execution_count": null
    },
    {
      "id": "dffd128d",
      "cell_type": "code",
      "source": "data.std()",
      "metadata": {
        "trusted": true
      },
      "outputs": [],
      "execution_count": null
    },
    {
      "id": "0e8788c5",
      "cell_type": "code",
      "source": "data['Age'].std()",
      "metadata": {
        "trusted": true
      },
      "outputs": [],
      "execution_count": null
    },
    {
      "id": "5a15324a",
      "cell_type": "code",
      "source": "data.groupby('Age').count()",
      "metadata": {
        "trusted": true
      },
      "outputs": [],
      "execution_count": null
    },
    {
      "id": "f952cca6",
      "cell_type": "markdown",
      "source": "## 3.2 iris.csv Dataset",
      "metadata": {}
    },
    {
      "id": "1817c743",
      "cell_type": "code",
      "source": "data=pd.read_csv(\"iris.csv\")\ndata",
      "metadata": {
        "trusted": true
      },
      "outputs": [],
      "execution_count": null
    },
    {
      "id": "5ac317fa",
      "cell_type": "code",
      "source": "data.groupby('Species').count()",
      "metadata": {
        "trusted": true
      },
      "outputs": [],
      "execution_count": null
    },
    {
      "id": "8aed7e54",
      "cell_type": "code",
      "source": "data.groupby('Species').mean()",
      "metadata": {
        "trusted": true
      },
      "outputs": [],
      "execution_count": null
    },
    {
      "id": "09dcccc5",
      "cell_type": "code",
      "source": "data.Species.mode()\n",
      "metadata": {
        "trusted": true
      },
      "outputs": [],
      "execution_count": null
    },
    {
      "id": "88ff6096",
      "cell_type": "markdown",
      "source": "## Standard Deviation",
      "metadata": {}
    },
    {
      "id": "53cba40e",
      "cell_type": "code",
      "source": "data.SepalWidthCm.std()",
      "metadata": {
        "trusted": true
      },
      "outputs": [],
      "execution_count": null
    },
    {
      "id": "3766833c",
      "cell_type": "code",
      "source": "data.SepalLengthCm.std()",
      "metadata": {
        "trusted": true
      },
      "outputs": [],
      "execution_count": null
    },
    {
      "id": "03ea0b46",
      "cell_type": "code",
      "source": "# Violien Plot of Graph\n\nimport seaborn as sns\nsns.violinplot(x=\"SepalWidthCm\", y=\"Species\", data=df)",
      "metadata": {
        "trusted": true
      },
      "outputs": [],
      "execution_count": null
    },
    {
      "id": "6149e14b",
      "cell_type": "code",
      "source": "data.corr(method='pearson')",
      "metadata": {
        "trusted": true
      },
      "outputs": [],
      "execution_count": null
    },
    {
      "id": "595e3761",
      "cell_type": "code",
      "source": "",
      "metadata": {
        "trusted": true
      },
      "outputs": [],
      "execution_count": null
    }
  ]
}