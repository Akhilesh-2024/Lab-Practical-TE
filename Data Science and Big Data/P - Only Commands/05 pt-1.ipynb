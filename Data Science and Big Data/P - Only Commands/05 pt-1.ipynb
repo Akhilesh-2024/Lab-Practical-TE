{
  "metadata": {
    "kernelspec": {
      "name": "python",
      "display_name": "Python (Pyodide)",
      "language": "python"
    },
    "language_info": {
      "codemirror_mode": {
        "name": "python",
        "version": 3
      },
      "file_extension": ".py",
      "mimetype": "text/x-python",
      "name": "python",
      "nbconvert_exporter": "python",
      "pygments_lexer": "ipython3",
      "version": "3.8"
    }
  },
  "nbformat_minor": 5,
  "nbformat": 4,
  "cells": [
    {
      "id": "51047447",
      "cell_type": "code",
      "source": "import pandas as pd\nimport numpy as np\n",
      "metadata": {
        "trusted": true
      },
      "outputs": [],
      "execution_count": null
    },
    {
      "id": "a6dd13bb",
      "cell_type": "code",
      "source": "df=pd.read_csv('Social_Network_Ads.csv')",
      "metadata": {
        "trusted": true
      },
      "outputs": [],
      "execution_count": null
    },
    {
      "id": "a08e78d4",
      "cell_type": "code",
      "source": "df.info()",
      "metadata": {
        "trusted": true
      },
      "outputs": [],
      "execution_count": null
    },
    {
      "id": "1e960140",
      "cell_type": "code",
      "source": "df.tail()",
      "metadata": {
        "trusted": true
      },
      "outputs": [],
      "execution_count": null
    },
    {
      "id": "84c72c16",
      "cell_type": "code",
      "source": "x=pd.DataFrame(df.iloc[:,:-1])",
      "metadata": {
        "trusted": true
      },
      "outputs": [],
      "execution_count": null
    },
    {
      "id": "ca8d62b4",
      "cell_type": "code",
      "source": "y=pd.DataFrame(df.iloc[:,-1])",
      "metadata": {
        "trusted": true
      },
      "outputs": [],
      "execution_count": null
    },
    {
      "id": "025e3c32",
      "cell_type": "code",
      "source": "df.info()",
      "metadata": {
        "trusted": true
      },
      "outputs": [],
      "execution_count": null
    },
    {
      "id": "7c11a0a3",
      "cell_type": "code",
      "source": "x",
      "metadata": {
        "trusted": true
      },
      "outputs": [],
      "execution_count": null
    },
    {
      "id": "4f6b94f6",
      "cell_type": "code",
      "source": "y",
      "metadata": {
        "trusted": true
      },
      "outputs": [],
      "execution_count": null
    },
    {
      "id": "152e566b",
      "cell_type": "code",
      "source": "from sklearn.model_selection import train_test_split",
      "metadata": {
        "trusted": true
      },
      "outputs": [],
      "execution_count": null
    },
    {
      "id": "0c315f43",
      "cell_type": "code",
      "source": "X_train, X_test,y_train,y_test=train_test_split(x,y,test_size=0.1)",
      "metadata": {
        "trusted": true
      },
      "outputs": [],
      "execution_count": null
    },
    {
      "id": "a4e48104",
      "cell_type": "code",
      "source": "print(X_train.shape)\nprint(X_test.shape)\nprint(y_train.shape)\nprint(y_test.shape)",
      "metadata": {
        "trusted": true
      },
      "outputs": [],
      "execution_count": null
    },
    {
      "id": "4bd9c908",
      "cell_type": "code",
      "source": "#feature scaling\nfrom sklearn.preprocessing import StandardScaler",
      "metadata": {
        "trusted": true
      },
      "outputs": [],
      "execution_count": null
    },
    {
      "id": "42e01c63",
      "cell_type": "code",
      "source": "Scaler=StandardScaler()\nv=Scaler.fit_transform(y)",
      "metadata": {
        "trusted": true
      },
      "outputs": [],
      "execution_count": null
    },
    {
      "id": "22687e32",
      "cell_type": "code",
      "source": "v",
      "metadata": {
        "trusted": true
      },
      "outputs": [],
      "execution_count": null
    },
    {
      "id": "71bb9184",
      "cell_type": "code",
      "source": "from sklearn.linear_model import LogisticRegression",
      "metadata": {
        "trusted": true
      },
      "outputs": [],
      "execution_count": null
    },
    {
      "id": "ff5abdf9",
      "cell_type": "code",
      "source": "df['Gender'].value_counts(normalize=True)",
      "metadata": {
        "trusted": true
      },
      "outputs": [],
      "execution_count": null
    },
    {
      "id": "efcf0198",
      "cell_type": "code",
      "source": "df['Gender']=df.Gender.map({\"Male\":1,\"Female\":0})",
      "metadata": {
        "trusted": true
      },
      "outputs": [],
      "execution_count": null
    },
    {
      "id": "940de048",
      "cell_type": "code",
      "source": "df[\"Gender\"]",
      "metadata": {
        "trusted": true
      },
      "outputs": [],
      "execution_count": null
    },
    {
      "id": "1c060376",
      "cell_type": "code",
      "source": "df.head()",
      "metadata": {
        "trusted": true
      },
      "outputs": [],
      "execution_count": null
    }
  ]
}