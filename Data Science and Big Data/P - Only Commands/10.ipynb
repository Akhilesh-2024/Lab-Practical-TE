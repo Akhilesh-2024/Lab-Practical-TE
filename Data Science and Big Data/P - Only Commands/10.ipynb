{
  "metadata": {
    "kernelspec": {
      "name": "python",
      "display_name": "Python (Pyodide)",
      "language": "python"
    },
    "language_info": {
      "codemirror_mode": {
        "name": "python",
        "version": 3
      },
      "file_extension": ".py",
      "mimetype": "text/x-python",
      "name": "python",
      "nbconvert_exporter": "python",
      "pygments_lexer": "ipython3",
      "version": "3.8"
    }
  },
  "nbformat_minor": 5,
  "nbformat": 4,
  "cells": [
    {
      "id": "80dd3efb",
      "cell_type": "code",
      "source": "import numpy as np\nimport pandas as pd\nimport matplotlib.pyplot as plt\nimport seaborn as sns",
      "metadata": {
        "trusted": true
      },
      "outputs": [],
      "execution_count": null
    },
    {
      "id": "0d9f4bf6",
      "cell_type": "code",
      "source": "data=pd.read_csv('iris.csv')",
      "metadata": {
        "trusted": true
      },
      "outputs": [],
      "execution_count": null
    },
    {
      "id": "7ca932ce",
      "cell_type": "code",
      "source": "data",
      "metadata": {
        "trusted": true
      },
      "outputs": [],
      "execution_count": null
    },
    {
      "id": "71b0fa87",
      "cell_type": "code",
      "source": "data.head()",
      "metadata": {
        "trusted": true
      },
      "outputs": [],
      "execution_count": null
    },
    {
      "id": "92fa6ed5",
      "cell_type": "code",
      "source": "data.tail()",
      "metadata": {
        "trusted": true
      },
      "outputs": [],
      "execution_count": null
    },
    {
      "id": "bc54e986",
      "cell_type": "code",
      "source": "data.describe()",
      "metadata": {
        "trusted": true
      },
      "outputs": [],
      "execution_count": null
    },
    {
      "id": "2a2cde5c",
      "cell_type": "code",
      "source": "data.info()",
      "metadata": {
        "trusted": true
      },
      "outputs": [],
      "execution_count": null
    },
    {
      "id": "96f4994b",
      "cell_type": "code",
      "source": "data.isnull().sum()",
      "metadata": {
        "trusted": true
      },
      "outputs": [],
      "execution_count": null
    },
    {
      "id": "95bde063",
      "cell_type": "markdown",
      "source": "## 1. Features of dataset",
      "metadata": {}
    },
    {
      "id": "dcd10135",
      "cell_type": "code",
      "source": "print(\"The features in the dataset are as follows: \")\n\nprint(\"1. SepalLengthCm : \", data['SepalLengthCm'].dtype)\nprint(\"2. SepalWidthCm : \", data['SepalWidthCm'].dtype)\nprint(\"3. PetalLengthCm : \", data['PetalLengthCm'].dtype)\nprint(\"4. PetalWidthCm : \", data['PetalWidthCm'].dtype)\nprint(\"5. Species : \", data['Species'].dtype)",
      "metadata": {
        "trusted": true
      },
      "outputs": [],
      "execution_count": null
    },
    {
      "id": "a9190368",
      "cell_type": "markdown",
      "source": "## 2. Creating Histogram",
      "metadata": {}
    },
    {
      "id": "72b12671",
      "cell_type": "code",
      "source": "sns.histplot(x = data['SepalLengthCm'], kde=True)\n",
      "metadata": {
        "trusted": true
      },
      "outputs": [],
      "execution_count": null
    },
    {
      "id": "93ffe04b",
      "cell_type": "code",
      "source": "sns.histplot(x = data['SepalWidthCm'], kde=True)\n",
      "metadata": {
        "trusted": true
      },
      "outputs": [],
      "execution_count": null
    },
    {
      "id": "b1aa1643",
      "cell_type": "code",
      "source": "sns.histplot(x = data['PetalLengthCm'], kde=True)\n",
      "metadata": {
        "trusted": true
      },
      "outputs": [],
      "execution_count": null
    },
    {
      "id": "afb319bf",
      "cell_type": "code",
      "source": "sns.histplot(x = data['PetalWidthCm'], kde=True)\n",
      "metadata": {
        "trusted": true
      },
      "outputs": [],
      "execution_count": null
    },
    {
      "id": "231e8386",
      "cell_type": "markdown",
      "source": "## 3. Boxplot",
      "metadata": {}
    },
    {
      "id": "ed76d502",
      "cell_type": "code",
      "source": "sns.boxplot(data['SepalLengthCm'])\n",
      "metadata": {
        "trusted": true
      },
      "outputs": [],
      "execution_count": null
    },
    {
      "id": "0030604e",
      "cell_type": "code",
      "source": "sns.boxplot(data['SepalWidthCm'])\n",
      "metadata": {
        "trusted": true
      },
      "outputs": [],
      "execution_count": null
    },
    {
      "id": "1428d3c3",
      "cell_type": "code",
      "source": "sns.boxplot(data['PetalLengthCm'])",
      "metadata": {
        "trusted": true
      },
      "outputs": [],
      "execution_count": null
    },
    {
      "id": "98ce7b83",
      "cell_type": "code",
      "source": "sns.boxplot(data['PetalWidthCm'])",
      "metadata": {
        "trusted": true
      },
      "outputs": [],
      "execution_count": null
    },
    {
      "id": "3be1de1d",
      "cell_type": "markdown",
      "source": "## 4. Compare Distributions and Identify Outliers",
      "metadata": {}
    },
    {
      "id": "745164ca",
      "cell_type": "code",
      "source": "sns.boxplot(x='SepalLengthCm',y='Species',data=data)\n ",
      "metadata": {
        "trusted": true
      },
      "outputs": [],
      "execution_count": null
    },
    {
      "id": "ea832a9d",
      "cell_type": "code",
      "source": "sns.boxplot(x='SepalWidthCm',y='Species',data=data)\n ",
      "metadata": {
        "trusted": true
      },
      "outputs": [],
      "execution_count": null
    },
    {
      "id": "94a0b975",
      "cell_type": "code",
      "source": "sns.boxplot(x='PetalLengthCm',y='Species',data=data)\n ",
      "metadata": {
        "trusted": true
      },
      "outputs": [],
      "execution_count": null
    },
    {
      "id": "9e92ed18",
      "cell_type": "code",
      "source": "sns.boxplot(x='PetalWidthCm',y='Species',data=data)\n ",
      "metadata": {
        "trusted": true
      },
      "outputs": [],
      "execution_count": null
    },
    {
      "id": "49075cc2",
      "cell_type": "code",
      "source": "",
      "metadata": {
        "trusted": true
      },
      "outputs": [],
      "execution_count": null
    }
  ]
}