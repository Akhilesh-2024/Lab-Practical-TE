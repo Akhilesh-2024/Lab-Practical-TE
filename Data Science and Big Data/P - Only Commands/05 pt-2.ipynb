{
  "metadata": {
    "kernelspec": {
      "name": "python",
      "display_name": "Python (Pyodide)",
      "language": "python"
    },
    "language_info": {
      "codemirror_mode": {
        "name": "python",
        "version": 3
      },
      "file_extension": ".py",
      "mimetype": "text/x-python",
      "name": "python",
      "nbconvert_exporter": "python",
      "pygments_lexer": "ipython3",
      "version": "3.8"
    }
  },
  "nbformat_minor": 5,
  "nbformat": 4,
  "cells": [
    {
      "id": "483ffe69",
      "cell_type": "code",
      "source": "import numpy as np \nimport pandas as pd\nimport warnings \ndf=pd.read_csv(\"Social_Network_Adds.csv\")\ndf",
      "metadata": {
        "trusted": true
      },
      "outputs": [],
      "execution_count": null
    },
    {
      "id": "bb194149",
      "cell_type": "code",
      "source": "df.head",
      "metadata": {
        "trusted": true
      },
      "outputs": [],
      "execution_count": null
    },
    {
      "id": "6197d179",
      "cell_type": "code",
      "source": "print(df.shape)",
      "metadata": {
        "trusted": true
      },
      "outputs": [],
      "execution_count": null
    },
    {
      "id": "e43f3bfb",
      "cell_type": "code",
      "source": "x = pd.DataFrame(df.iloc[:, :-1])\ny = pd.DataFrame(df.iloc[:, -1])",
      "metadata": {
        "trusted": true
      },
      "outputs": [],
      "execution_count": null
    },
    {
      "id": "65b75c75",
      "cell_type": "code",
      "source": "x",
      "metadata": {
        "trusted": true
      },
      "outputs": [],
      "execution_count": null
    },
    {
      "id": "a96c652f",
      "cell_type": "code",
      "source": "from sklearn.model_selection import train_test_split\nx_train,x_test,y_train,x_test=train_test_split(x,y,test_size=0.2,random_state=1)",
      "metadata": {
        "trusted": true
      },
      "outputs": [],
      "execution_count": null
    },
    {
      "id": "d05edc43",
      "cell_type": "code",
      "source": "from sklearn.linear_model import LogisticRegression\nclassifier=LogisticRegression()\nprint (classifier.fit(x_train,y_train))",
      "metadata": {
        "trusted": true
      },
      "outputs": [],
      "execution_count": null
    },
    {
      "id": "41c29cdd",
      "cell_type": "code",
      "source": "y_pred = classifier.predict(x_train)",
      "metadata": {
        "trusted": true
      },
      "outputs": [],
      "execution_count": null
    },
    {
      "id": "b5aa1fc6",
      "cell_type": "code",
      "source": "y_pred",
      "metadata": {
        "trusted": true
      },
      "outputs": [],
      "execution_count": null
    },
    {
      "id": "e2d9a6cd",
      "cell_type": "code",
      "source": "from sklearn.metrics import confusion_matrix\ncm=confusion_matrix(y_train,y_pred)",
      "metadata": {
        "trusted": true
      },
      "outputs": [],
      "execution_count": null
    },
    {
      "id": "3301e09a",
      "cell_type": "code",
      "source": "cm\n",
      "metadata": {
        "trusted": true
      },
      "outputs": [],
      "execution_count": null
    },
    {
      "id": "ea0948bf",
      "cell_type": "code",
      "source": "from sklearn.metrics import classification_report\nprint(classification_report(y_train,y_pred))",
      "metadata": {
        "trusted": true
      },
      "outputs": [],
      "execution_count": null
    },
    {
      "id": "07e503aa",
      "cell_type": "code",
      "source": "pp = (80+80)/(80+0+78+82)",
      "metadata": {
        "trusted": true
      },
      "outputs": [],
      "execution_count": null
    },
    {
      "id": "78f484d3",
      "cell_type": "code",
      "source": "print(pp)",
      "metadata": {
        "trusted": true
      },
      "outputs": [],
      "execution_count": null
    }
  ]
}