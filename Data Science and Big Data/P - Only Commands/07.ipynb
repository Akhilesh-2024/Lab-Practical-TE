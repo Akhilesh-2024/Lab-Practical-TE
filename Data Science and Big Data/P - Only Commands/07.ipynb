{
  "metadata": {
    "kernelspec": {
      "name": "python",
      "display_name": "Python (Pyodide)",
      "language": "python"
    },
    "language_info": {
      "codemirror_mode": {
        "name": "python",
        "version": 3
      },
      "file_extension": ".py",
      "mimetype": "text/x-python",
      "name": "python",
      "nbconvert_exporter": "python",
      "pygments_lexer": "ipython3",
      "version": "3.8"
    }
  },
  "nbformat_minor": 5,
  "nbformat": 4,
  "cells": [
    {
      "id": "9ececeae",
      "cell_type": "code",
      "source": "import nltk\nfrom nltk.tokenize import word_tokenize as wt, sent_tokenize as st",
      "metadata": {
        "trusted": true
      },
      "outputs": [],
      "execution_count": null
    },
    {
      "id": "520b6ef4",
      "cell_type": "code",
      "source": "kn=\"Kunal is Engineering Student\"\nw=wt(kn)",
      "metadata": {
        "trusted": true
      },
      "outputs": [],
      "execution_count": null
    },
    {
      "id": "19da9ff1",
      "cell_type": "code",
      "source": "w",
      "metadata": {
        "trusted": true
      },
      "outputs": [],
      "execution_count": null
    },
    {
      "id": "d76de3a3",
      "cell_type": "code",
      "source": "from nltk.corpus import gutenberg",
      "metadata": {
        "trusted": true
      },
      "outputs": [],
      "execution_count": null
    },
    {
      "id": "f3683268",
      "cell_type": "code",
      "source": "k=gutenberg.fileids()",
      "metadata": {
        "trusted": true
      },
      "outputs": [],
      "execution_count": null
    },
    {
      "id": "95c4d6dd",
      "cell_type": "code",
      "source": "k",
      "metadata": {
        "trusted": true
      },
      "outputs": [],
      "execution_count": null
    },
    {
      "id": "7b7c555f",
      "cell_type": "code",
      "source": "k=gutenberg.raw(\"austen-emma.txt\")",
      "metadata": {
        "trusted": true
      },
      "outputs": [],
      "execution_count": null
    },
    {
      "id": "8ac4e541",
      "cell_type": "code",
      "source": "knn=k[50:447]",
      "metadata": {
        "trusted": true
      },
      "outputs": [],
      "execution_count": null
    },
    {
      "id": "9084dd78",
      "cell_type": "code",
      "source": "knn",
      "metadata": {
        "trusted": true
      },
      "outputs": [],
      "execution_count": null
    },
    {
      "id": "049864b0",
      "cell_type": "code",
      "source": "s=st(knn)",
      "metadata": {
        "trusted": true
      },
      "outputs": [],
      "execution_count": null
    },
    {
      "id": "51a4093c",
      "cell_type": "code",
      "source": "s[1]",
      "metadata": {
        "trusted": true
      },
      "outputs": [],
      "execution_count": null
    },
    {
      "id": "9302bf72",
      "cell_type": "code",
      "source": "w=wt(s[1])",
      "metadata": {
        "trusted": true
      },
      "outputs": [],
      "execution_count": null
    },
    {
      "id": "538de7b5",
      "cell_type": "code",
      "source": "w",
      "metadata": {
        "trusted": true
      },
      "outputs": [],
      "execution_count": null
    },
    {
      "id": "98ac967f",
      "cell_type": "markdown",
      "source": "## STEMMER\n",
      "metadata": {}
    },
    {
      "id": "496b75ba",
      "cell_type": "code",
      "source": "from nltk.stem import PorterStemmer",
      "metadata": {
        "trusted": true
      },
      "outputs": [],
      "execution_count": null
    },
    {
      "id": "89585249",
      "cell_type": "code",
      "source": "ps=PorterStemmer()",
      "metadata": {
        "trusted": true
      },
      "outputs": [],
      "execution_count": null
    },
    {
      "id": "3f01ea86",
      "cell_type": "code",
      "source": "words=[\"Walking\", \"Rocking\", 'Running',\"Swimming\", \"Riding\"]\nfor x in words:\n    print(ps.stem(x))",
      "metadata": {
        "trusted": true
      },
      "outputs": [],
      "execution_count": null
    },
    {
      "id": "df56c22d",
      "cell_type": "markdown",
      "source": "## POS Tagging",
      "metadata": {}
    },
    {
      "id": "1caa8734",
      "cell_type": "code",
      "source": "# convert text into word_token with these tags\n\nfrom nltk import pos_tag\ndef postag(text):\n    w=wt(text)\n    return pos_tag(w)\n\npostag(\"Kunal is regulat at College\")",
      "metadata": {
        "trusted": true
      },
      "outputs": [],
      "execution_count": null
    },
    {
      "id": "6056fe74",
      "cell_type": "code",
      "source": "from nltk.corpus import stopwords",
      "metadata": {
        "trusted": true
      },
      "outputs": [],
      "execution_count": null
    },
    {
      "id": "d773d09e",
      "cell_type": "code",
      "source": "w=stopwords.words(\"French\")",
      "metadata": {
        "trusted": true
      },
      "outputs": [],
      "execution_count": null
    },
    {
      "id": "34e4c917",
      "cell_type": "code",
      "source": "print(w)",
      "metadata": {
        "trusted": true
      },
      "outputs": [],
      "execution_count": null
    },
    {
      "id": "872736ec",
      "cell_type": "code",
      "source": "",
      "metadata": {
        "trusted": true
      },
      "outputs": [],
      "execution_count": null
    }
  ]
}