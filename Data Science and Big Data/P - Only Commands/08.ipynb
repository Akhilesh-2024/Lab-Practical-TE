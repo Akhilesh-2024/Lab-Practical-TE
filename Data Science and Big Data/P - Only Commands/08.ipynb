{
  "metadata": {
    "kernelspec": {
      "name": "python",
      "display_name": "Python (Pyodide)",
      "language": "python"
    },
    "language_info": {
      "codemirror_mode": {
        "name": "python",
        "version": 3
      },
      "file_extension": ".py",
      "mimetype": "text/x-python",
      "name": "python",
      "nbconvert_exporter": "python",
      "pygments_lexer": "ipython3",
      "version": "3.8"
    }
  },
  "nbformat_minor": 5,
  "nbformat": 4,
  "cells": [
    {
      "id": "f56a5334",
      "cell_type": "code",
      "source": "import numpy as np\nimport matplotlib.pyplot as plt\nimport seaborn as sns\nimport pandas as pd\nTitanic = sns.load_dataset('titanic')\nTitanic.head()",
      "metadata": {
        "trusted": true
      },
      "outputs": [],
      "execution_count": null
    },
    {
      "id": "4083f4bc",
      "cell_type": "code",
      "source": "sns.displot(Titanic['fare'])",
      "metadata": {
        "trusted": true
      },
      "outputs": [],
      "execution_count": null
    },
    {
      "id": "889fea48",
      "cell_type": "code",
      "source": "sns.jointplot(x='age', y='fare', data= Titanic)",
      "metadata": {
        "trusted": true
      },
      "outputs": [],
      "execution_count": null
    },
    {
      "id": "07a59195",
      "cell_type": "code",
      "source": "sns.jointplot(x='age',y='fare',data=Titanic,kind='hex')",
      "metadata": {
        "trusted": true
      },
      "outputs": [],
      "execution_count": null
    },
    {
      "id": "4a380ca2",
      "cell_type": "code",
      "source": "plt.show()",
      "metadata": {
        "trusted": true
      },
      "outputs": [],
      "execution_count": null
    },
    {
      "id": "a1b45757",
      "cell_type": "code",
      "source": "",
      "metadata": {
        "trusted": true
      },
      "outputs": [],
      "execution_count": null
    },
    {
      "id": "0abd0b74",
      "cell_type": "code",
      "source": "",
      "metadata": {
        "trusted": true
      },
      "outputs": [],
      "execution_count": null
    },
    {
      "id": "f58986b2",
      "cell_type": "code",
      "source": "sns.pairplot(Titanic)",
      "metadata": {
        "trusted": true
      },
      "outputs": [],
      "execution_count": null
    },
    {
      "id": "c1769bee",
      "cell_type": "code",
      "source": "plt.show()",
      "metadata": {
        "trusted": true
      },
      "outputs": [],
      "execution_count": null
    },
    {
      "id": "ed53d4af",
      "cell_type": "code",
      "source": "Titanic = Titanic.dropna()",
      "metadata": {
        "trusted": true
      },
      "outputs": [],
      "execution_count": null
    },
    {
      "id": "edebae99",
      "cell_type": "code",
      "source": "sns.pairplot(Titanic,hue='sex')",
      "metadata": {
        "trusted": true
      },
      "outputs": [],
      "execution_count": null
    },
    {
      "id": "4ff9fa7a",
      "cell_type": "code",
      "source": "sns.barplot(x='sex',y='age', data=Titanic)",
      "metadata": {
        "trusted": true
      },
      "outputs": [],
      "execution_count": null
    },
    {
      "id": "839f57d7",
      "cell_type": "code",
      "source": "plt.show()",
      "metadata": {
        "trusted": true
      },
      "outputs": [],
      "execution_count": null
    },
    {
      "id": "84ca8933",
      "cell_type": "code",
      "source": "import numpy as np\n\nimport matplotlib.pyplot as plt\nimport seaborn as sns\n\nsns.barplot(x='sex',y='age',data=Titanic,estimator=np.std)",
      "metadata": {
        "trusted": true
      },
      "outputs": [],
      "execution_count": null
    },
    {
      "id": "f2d64e6a",
      "cell_type": "code",
      "source": "plt.show()",
      "metadata": {
        "trusted": true
      },
      "outputs": [],
      "execution_count": null
    },
    {
      "id": "2c4ec53b",
      "cell_type": "code",
      "source": "sns.boxplot(x='sex',y='age',data=Titanic)",
      "metadata": {
        "trusted": true
      },
      "outputs": [],
      "execution_count": null
    },
    {
      "id": "802c0755",
      "cell_type": "code",
      "source": "plt.show()",
      "metadata": {
        "trusted": true
      },
      "outputs": [],
      "execution_count": null
    },
    {
      "id": "04aaa16e",
      "cell_type": "code",
      "source": "sns.barplot(x='pclass',y='survived',data=Titanic, hue='sex')",
      "metadata": {
        "trusted": true
      },
      "outputs": [],
      "execution_count": null
    },
    {
      "id": "68f5a1bf",
      "cell_type": "code",
      "source": "plt.show()",
      "metadata": {
        "trusted": true
      },
      "outputs": [],
      "execution_count": null
    },
    {
      "id": "0d5b7af3",
      "cell_type": "code",
      "source": "sns.stripplot(x='sex', y='age', data=Titanic)",
      "metadata": {
        "trusted": true
      },
      "outputs": [],
      "execution_count": null
    },
    {
      "id": "8bba53c4",
      "cell_type": "code",
      "source": "plt.show()",
      "metadata": {
        "trusted": true
      },
      "outputs": [],
      "execution_count": null
    },
    {
      "id": "f15f2824",
      "cell_type": "code",
      "source": "sns.stripplot(x='sex', y='age', data=Titanic, jitter=True)",
      "metadata": {
        "trusted": true
      },
      "outputs": [],
      "execution_count": null
    },
    {
      "id": "6290005b",
      "cell_type": "code",
      "source": "plt.show()",
      "metadata": {
        "trusted": true
      },
      "outputs": [],
      "execution_count": null
    },
    {
      "id": "404c70da",
      "cell_type": "code",
      "source": "sns.stripplot(x='sex', y='age', data=Titanic, jitter=True, hue='survived')",
      "metadata": {
        "trusted": true
      },
      "outputs": [],
      "execution_count": null
    },
    {
      "id": "92fb27a2",
      "cell_type": "code",
      "source": "plt.show()",
      "metadata": {
        "trusted": true
      },
      "outputs": [],
      "execution_count": null
    },
    {
      "id": "a36c945d",
      "cell_type": "code",
      "source": "sns.swarmplot(data=Titanic, x='pclass', y='age', hue='survived')",
      "metadata": {
        "trusted": true
      },
      "outputs": [],
      "execution_count": null
    },
    {
      "id": "54b3c0a1",
      "cell_type": "code",
      "source": "plt.show()",
      "metadata": {
        "trusted": true
      },
      "outputs": [],
      "execution_count": null
    },
    {
      "id": "c3a6ce0b",
      "cell_type": "code",
      "source": "",
      "metadata": {
        "trusted": true
      },
      "outputs": [],
      "execution_count": null
    }
  ]
}