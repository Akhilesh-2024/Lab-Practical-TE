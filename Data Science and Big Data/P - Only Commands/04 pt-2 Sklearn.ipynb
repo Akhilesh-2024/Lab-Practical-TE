{
  "metadata": {
    "kernelspec": {
      "name": "python",
      "display_name": "Python (Pyodide)",
      "language": "python"
    },
    "language_info": {
      "codemirror_mode": {
        "name": "python",
        "version": 3
      },
      "file_extension": ".py",
      "mimetype": "text/x-python",
      "name": "python",
      "nbconvert_exporter": "python",
      "pygments_lexer": "ipython3",
      "version": "3.8"
    }
  },
  "nbformat_minor": 5,
  "nbformat": 4,
  "cells": [
    {
      "id": "409ff87d",
      "cell_type": "code",
      "source": "import pandas as pd\nimport numpy as np\nimport warnings\nwarnings.filterwarnings('ignore')",
      "metadata": {
        "trusted": true
      },
      "outputs": [],
      "execution_count": null
    },
    {
      "id": "9458c85d",
      "cell_type": "code",
      "source": "from sklearn.datasets import load_boston",
      "metadata": {
        "trusted": true
      },
      "outputs": [],
      "execution_count": null
    },
    {
      "id": "fdf0c617",
      "cell_type": "code",
      "source": "boston=load_boston()\ndata= pd.DataFrame(data=boston.data, columns=boston.feature_names)\ndata",
      "metadata": {
        "trusted": true
      },
      "outputs": [],
      "execution_count": null
    },
    {
      "id": "ba666c7f",
      "cell_type": "code",
      "source": "data.head()",
      "metadata": {
        "trusted": true
      },
      "outputs": [],
      "execution_count": null
    },
    {
      "id": "7742623b",
      "cell_type": "code",
      "source": "data.tail()",
      "metadata": {
        "trusted": true
      },
      "outputs": [],
      "execution_count": null
    },
    {
      "id": "e95272a2",
      "cell_type": "code",
      "source": "data.info()",
      "metadata": {
        "trusted": true
      },
      "outputs": [],
      "execution_count": null
    },
    {
      "id": "4f469979",
      "cell_type": "code",
      "source": "data.describe()",
      "metadata": {
        "trusted": true
      },
      "outputs": [],
      "execution_count": null
    },
    {
      "id": "e13b793e",
      "cell_type": "code",
      "source": "data['prices']=boston.target\ndata",
      "metadata": {
        "trusted": true
      },
      "outputs": [],
      "execution_count": null
    },
    {
      "id": "60a32dcf",
      "cell_type": "code",
      "source": "x=data.drop([\"prices\"],axis=1)\n\ny=data['prices']",
      "metadata": {
        "trusted": true
      },
      "outputs": [],
      "execution_count": null
    },
    {
      "id": "4d4689f0",
      "cell_type": "code",
      "source": "from sklearn.model_selection import train_test_split as tts",
      "metadata": {
        "trusted": true
      },
      "outputs": [],
      "execution_count": null
    },
    {
      "id": "ace0605a",
      "cell_type": "code",
      "source": "x_train, x_test, y_train, y_test=tts(x, y, test_size=0.9)",
      "metadata": {
        "trusted": true
      },
      "outputs": [],
      "execution_count": null
    },
    {
      "id": "923906ab",
      "cell_type": "code",
      "source": "x_train",
      "metadata": {
        "trusted": true
      },
      "outputs": [],
      "execution_count": null
    },
    {
      "id": "56a1d0a4",
      "cell_type": "code",
      "source": "from sklearn.linear_model import LinearRegression\nLR= LinearRegression()",
      "metadata": {
        "trusted": true
      },
      "outputs": [],
      "execution_count": null
    },
    {
      "id": "b838ebf3",
      "cell_type": "code",
      "source": "LR.fit(x_train, y_train)",
      "metadata": {
        "trusted": true
      },
      "outputs": [],
      "execution_count": null
    },
    {
      "id": "bbd0224d",
      "cell_type": "code",
      "source": "y_pred=LR.predict(x_test)\ny_pred",
      "metadata": {
        "trusted": true
      },
      "outputs": [],
      "execution_count": null
    },
    {
      "id": "19072829",
      "cell_type": "code",
      "source": "LR.score(x_test, y_pred)",
      "metadata": {
        "trusted": true
      },
      "outputs": [],
      "execution_count": null
    }
  ]
}