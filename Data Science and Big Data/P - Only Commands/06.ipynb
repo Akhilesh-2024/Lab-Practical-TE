{
  "metadata": {
    "kernelspec": {
      "name": "python",
      "display_name": "Python (Pyodide)",
      "language": "python"
    },
    "language_info": {
      "codemirror_mode": {
        "name": "python",
        "version": 3
      },
      "file_extension": ".py",
      "mimetype": "text/x-python",
      "name": "python",
      "nbconvert_exporter": "python",
      "pygments_lexer": "ipython3",
      "version": "3.8"
    }
  },
  "nbformat_minor": 5,
  "nbformat": 4,
  "cells": [
    {
      "id": "03b5ac1b",
      "cell_type": "code",
      "source": "import numpy as np \nimport pandas as pd\nimport matplotlib.pyplot as pit ",
      "metadata": {
        "trusted": true
      },
      "outputs": [],
      "execution_count": null
    },
    {
      "id": "dc1444b2",
      "cell_type": "code",
      "source": "data=pd.read_csv(\"iris.csv\")\nx=data.iloc[:,:4].values\ny=data['Species'].values",
      "metadata": {
        "trusted": true
      },
      "outputs": [],
      "execution_count": null
    },
    {
      "id": "6082dd7b",
      "cell_type": "code",
      "source": "data",
      "metadata": {
        "trusted": true
      },
      "outputs": [],
      "execution_count": null
    },
    {
      "id": "55abe866",
      "cell_type": "code",
      "source": "data.head(5)",
      "metadata": {
        "trusted": true
      },
      "outputs": [],
      "execution_count": null
    },
    {
      "id": "e9f08334",
      "cell_type": "code",
      "source": "from sklearn.model_selection import train_test_split\nx_train, x_test, y_train, x_test = train_test_split(x,y,test_size=0.2)",
      "metadata": {
        "trusted": true
      },
      "outputs": [],
      "execution_count": null
    },
    {
      "id": "ffe4e564",
      "cell_type": "code",
      "source": "from sklearn.preprocessing import StandardScaler\nsc=StandardScaler()\nx_train=sc.fit_transform(x_train)\nx_test=sc.transform(x_test)",
      "metadata": {
        "trusted": true
      },
      "outputs": [],
      "execution_count": null
    },
    {
      "id": "36a17377",
      "cell_type": "code",
      "source": "from sklearn.naive_bayes import GaussianNB\nclassifier = GaussianNB()\nclassifier.fit(x_train, y_train)",
      "metadata": {
        "trusted": true
      },
      "outputs": [],
      "execution_count": null
    },
    {
      "id": "ee01353a",
      "cell_type": "code",
      "source": "y_pred = classifier.predict(x_test)\ny_pred",
      "metadata": {
        "trusted": true
      },
      "outputs": [],
      "execution_count": null
    },
    {
      "id": "8eb0960d",
      "cell_type": "code",
      "source": "from sklearn.metrics import confusion_matrix\ncm = confusion_matrix(y_train, y_pred)\nfrom sklearn.metrics import accuracy_score\nprint(\"Accuracy:\",accuracy_score(y_train,y_pred))\ncm",
      "metadata": {
        "trusted": true
      },
      "outputs": [],
      "execution_count": null
    },
    {
      "id": "6f78891c",
      "cell_type": "code",
      "source": "data1 = pd.DataFrame({'Actual Values':y_train,'predicted Values':y_pred})",
      "metadata": {
        "trusted": true
      },
      "outputs": [],
      "execution_count": null
    },
    {
      "id": "cca40ee2",
      "cell_type": "code",
      "source": "data1",
      "metadata": {
        "trusted": true
      },
      "outputs": [],
      "execution_count": null
    }
  ]
}